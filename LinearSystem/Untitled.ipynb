{
 "cells": [
  {
   "cell_type": "markdown",
   "metadata": {},
   "source": [
    "# Тесты"
   ]
  },
  {
   "cell_type": "markdown",
   "metadata": {},
   "source": [
    "## Подготовим среду"
   ]
  },
  {
   "cell_type": "code",
   "execution_count": 7,
   "metadata": {},
   "outputs": [],
   "source": [
    "from Matrix import PyMatrix\n",
    "from sympy import Rational as r"
   ]
  },
  {
   "cell_type": "code",
   "execution_count": 8,
   "metadata": {},
   "outputs": [],
   "source": [
    "def rationalize(M):\n",
    "    M_copy = M.copy()\n",
    "    for i, row in enumerate(M):\n",
    "        for j, el in enumerate(row):\n",
    "            M_copy[i][j] = sympy.Rational(el)\n",
    "    return M_copy\n",
    "\n",
    "def Matrix(M):\n",
    "    return PyMatrix(rationalize(M))"
   ]
  },
  {
   "cell_type": "markdown",
   "metadata": {},
   "source": [
    "## Нет решений"
   ]
  },
  {
   "cell_type": "code",
   "execution_count": 9,
   "metadata": {},
   "outputs": [],
   "source": [
    "M = Matrix([\n",
    "    [1, 2, 3],\n",
    "    [3, 2, 1/2],\n",
    "    [0, 0, 0]])"
   ]
  },
  {
   "cell_type": "code",
   "execution_count": 10,
   "metadata": {},
   "outputs": [
    {
     "data": {
      "text/latex": [
       "\\begin{bmatrix}\n",
       "    1 & 2 & 3\\\\\n",
       "    3 & 2 & \\frac{1}{2}\\\\\n",
       "    0 & 0 & 0\\\\\n",
       "\\end{bmatrix}"
      ],
      "text/plain": [
       "<Matrix.PyMatrix at 0x107f12f90>"
      ]
     },
     "execution_count": 10,
     "metadata": {},
     "output_type": "execute_result"
    }
   ],
   "source": [
    "M"
   ]
  },
  {
   "cell_type": "code",
   "execution_count": 11,
   "metadata": {},
   "outputs": [
    {
     "data": {
      "text/latex": [
       "$$There\\ is\\ no\\ soulution\n",
       "$$"
      ],
      "text/plain": [
       "<IPython.core.display.Math object>"
      ]
     },
     "metadata": {},
     "output_type": "display_data"
    }
   ],
   "source": [
    "M.solve([0, 0, 1])"
   ]
  },
  {
   "cell_type": "markdown",
   "metadata": {},
   "source": [
    "## Нетривиальное ядро"
   ]
  },
  {
   "cell_type": "code",
   "execution_count": 12,
   "metadata": {},
   "outputs": [],
   "source": [
    "M = Matrix([\n",
    "    [1, 2, 3],\n",
    "    [3, 2, 1/2]])"
   ]
  },
  {
   "cell_type": "code",
   "execution_count": 13,
   "metadata": {},
   "outputs": [
    {
     "data": {
      "text/latex": [
       "\\begin{bmatrix}\n",
       "    1 & 2 & 3\\\\\n",
       "    3 & 2 & \\frac{1}{2}\\\\\n",
       "\\end{bmatrix}"
      ],
      "text/plain": [
       "<Matrix.PyMatrix at 0x107f12f48>"
      ]
     },
     "execution_count": 13,
     "metadata": {},
     "output_type": "execute_result"
    }
   ],
   "source": [
    "M"
   ]
  },
  {
   "cell_type": "code",
   "execution_count": 14,
   "metadata": {},
   "outputs": [
    {
     "data": {
      "text/latex": [
       "$$X = \n",
       "\\begin{bmatrix}\n",
       "    1\\\\\n",
       "    0\\\\\n",
       "    0\n",
       "\\end{bmatrix}\n",
       " + \n",
       "\\begin{bmatrix}\n",
       "    \\frac{-5}{4}\\\\\n",
       "    \\frac{17}{8}\\\\\n",
       "    -1\n",
       "\\end{bmatrix}C_{1}\n",
       "$$"
      ],
      "text/plain": [
       "<IPython.core.display.Math object>"
      ]
     },
     "metadata": {},
     "output_type": "display_data"
    }
   ],
   "source": [
    "M.solve([1,3])"
   ]
  },
  {
   "cell_type": "markdown",
   "metadata": {},
   "source": [
    "## Тривиальное ядро (Одно решение)"
   ]
  },
  {
   "cell_type": "code",
   "execution_count": 15,
   "metadata": {},
   "outputs": [],
   "source": [
    "M = Matrix([[1, 2, 3],\n",
    "            [1, 1, 3],\n",
    "            [1/2, 1, 2]])"
   ]
  },
  {
   "cell_type": "code",
   "execution_count": 16,
   "metadata": {},
   "outputs": [
    {
     "data": {
      "text/latex": [
       "\\begin{bmatrix}\n",
       "    1 & 2 & 3\\\\\n",
       "    1 & 1 & 3\\\\\n",
       "    \\frac{1}{2} & 1 & 2\\\\\n",
       "\\end{bmatrix}"
      ],
      "text/plain": [
       "<Matrix.PyMatrix at 0x108ba9078>"
      ]
     },
     "execution_count": 16,
     "metadata": {},
     "output_type": "execute_result"
    }
   ],
   "source": [
    "M"
   ]
  },
  {
   "cell_type": "code",
   "execution_count": 17,
   "metadata": {},
   "outputs": [
    {
     "data": {
      "text/latex": [
       "$$X = \n",
       "\\begin{bmatrix}\n",
       "    11\\\\\n",
       "    \\frac{-7}{2}\\\\\n",
       "    \\frac{-3}{2}\n",
       "\\end{bmatrix}\n",
       "$$"
      ],
      "text/plain": [
       "<IPython.core.display.Math object>"
      ]
     },
     "metadata": {},
     "output_type": "display_data"
    }
   ],
   "source": [
    "M.solve([r(-1, 2), 3, -1])"
   ]
  }
 ],
 "metadata": {
  "kernelspec": {
   "display_name": "Python 3",
   "language": "python",
   "name": "python3"
  },
  "language_info": {
   "codemirror_mode": {
    "name": "ipython",
    "version": 3
   },
   "file_extension": ".py",
   "mimetype": "text/x-python",
   "name": "python",
   "nbconvert_exporter": "python",
   "pygments_lexer": "ipython3",
   "version": "3.6.3"
  }
 },
 "nbformat": 4,
 "nbformat_minor": 2
}
